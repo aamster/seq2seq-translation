{
 "cells": [
  {
   "cell_type": "code",
   "outputs": [],
   "source": [
    "import plotly.graph_objects as go\n",
    "import pandas as pd\n",
    "import numpy as np"
   ],
   "metadata": {
    "collapsed": false,
    "ExecuteTime": {
     "end_time": "2024-10-19T20:01:35.396179Z",
     "start_time": "2024-10-19T20:01:34.331171Z"
    }
   },
   "id": "372151639c4583a",
   "execution_count": 1
  },
  {
   "cell_type": "code",
   "outputs": [],
   "source": [
    "attention = pd.read_csv('/Users/adam.amster/seq2seq_translation/results/eval_metrics_attention_wmt14_test_wmt14_bleu.csv')\n",
    "no_attention = pd.read_csv('/Users/adam.amster/seq2seq_translation/results/eval_metrics_no_attention_wmt14_test_wmt14_bleu.csv')"
   ],
   "metadata": {
    "collapsed": false,
    "ExecuteTime": {
     "end_time": "2024-10-19T20:01:35.459371Z",
     "start_time": "2024-10-19T20:01:35.397397Z"
    }
   },
   "id": "1f194ba2def014a0",
   "execution_count": 2
  },
  {
   "cell_type": "code",
   "outputs": [],
   "source": [
    "# Create figure\n",
    "fig = go.Figure()\n",
    "\n",
    "# Softer colors for scatter points, stronger lines for trends\n",
    "attention_color = \"mediumaquamarine\"  # Soft green-blue\n",
    "no_attention_color = \"coral\"          # Gentle coral\n",
    "line_color_attention = \"teal\"          # Darker line for visibility\n",
    "line_color_no_attention = \"tomato\"     # Stronger coral for trend line\n",
    "\n",
    "# Scatter plots with higher transparency to focus on lines\n",
    "fig.add_trace(go.Scatter(\n",
    "    x=attention['input_length'],\n",
    "    y=attention['bleu'],\n",
    "    mode='markers',\n",
    "    name='Attention',\n",
    "    marker=dict(color=attention_color, size=6, opacity=0.5),\n",
    "    legendgroup='attention'\n",
    "))\n",
    "\n",
    "fig.add_trace(go.Scatter(\n",
    "    x=no_attention['input_length'],\n",
    "    y=no_attention['bleu'],\n",
    "    mode='markers',\n",
    "    name='No Attention',\n",
    "    marker=dict(color=no_attention_color, size=6, opacity=0.5),\n",
    "    legendgroup='no_attention'\n",
    "))\n",
    "\n",
    "# Function to plot interpolated lines prominently\n",
    "def plot_interpolated_line(x, y, color, name):\n",
    "    # Fit a linear polynomial (degree=1)\n",
    "    coefficients = np.polyfit(x, y, 1)\n",
    "    polynomial = np.poly1d(coefficients)\n",
    "    \n",
    "    # Generate x values for plotting the polynomial line\n",
    "    x_fit = np.linspace(min(x), max(x), 100)\n",
    "    y_fit = polynomial(x_fit)\n",
    "    \n",
    "    # Add the trend line with higher visibility\n",
    "    fig.add_trace(go.Scatter(\n",
    "        x=x_fit,\n",
    "        y=y_fit,\n",
    "        mode='lines',\n",
    "        name=f'{name}',\n",
    "        line=dict(color=color, width=4),  # Thicker, solid line for emphasis\n",
    "        legendgroup=name\n",
    "    ))\n",
    "\n",
    "# Plot interpolated lines\n",
    "plot_interpolated_line(\n",
    "    x=attention['input_length'],\n",
    "    y=attention['wmt14_bleu'],\n",
    "    color=line_color_attention,\n",
    "    name='Attention'\n",
    ")\n",
    "\n",
    "plot_interpolated_line(\n",
    "    x=no_attention['input_length'],\n",
    "    y=no_attention['wmt14_bleu'],\n",
    "    color=line_color_no_attention,\n",
    "    name='No Attention'\n",
    ")\n",
    "\n",
    "# Update layout with larger figure size and clean design\n",
    "fig.update_layout(\n",
    "    xaxis_title='Num. Input Tokens',\n",
    "    yaxis_title='BLEU Score',\n",
    "    title='BLEU Score vs Num. Input Tokens',\n",
    "    width=900,\n",
    "    height=600,\n",
    "    autosize=True,\n",
    "    plot_bgcolor='rgba(0,0,0,0)',  # Transparent plot area\n",
    "    paper_bgcolor='rgba(0,0,0,0)',  # Transparent outer background\n",
    "    font=dict(color='black'),  # Set tick label color for visibility\n",
    "    template='plotly_white'  # Clean white template\n",
    ")\n",
    "\n",
    "# Show figure\n",
    "fig.write_json('/Users/adam.amster/aamster.github.io/assets/plotly/2024-10-03-sequence_to_sequence_translation/attention_vs_no_attention_sent_len.json')"
   ],
   "metadata": {
    "collapsed": true,
    "ExecuteTime": {
     "end_time": "2024-10-19T20:17:06.617036Z",
     "start_time": "2024-10-19T20:17:06.571844Z"
    }
   },
   "id": "initial_id",
   "execution_count": 16
  }
 ],
 "metadata": {
  "kernelspec": {
   "display_name": "Python 3",
   "language": "python",
   "name": "python3"
  },
  "language_info": {
   "codemirror_mode": {
    "name": "ipython",
    "version": 2
   },
   "file_extension": ".py",
   "mimetype": "text/x-python",
   "name": "python",
   "nbconvert_exporter": "python",
   "pygments_lexer": "ipython2",
   "version": "2.7.6"
  }
 },
 "nbformat": 4,
 "nbformat_minor": 5
}
