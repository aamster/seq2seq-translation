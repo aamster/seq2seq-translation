{
 "cells": [
  {
   "cell_type": "code",
   "outputs": [],
   "source": [
    "import os\n",
    "\n",
    "import numpy as np\n",
    "import torch\n",
    "\n",
    "from seq2seq_translation.inference import BeamSearchSequenceGenerator\n",
    "from seq2seq_translation.tokenization.sentencepiece_tokenizer import SentencePieceTokenizer\n",
    "from seq2seq_translation.run import _fix_model_state_dict\n",
    "from seq2seq_translation.attention import AttentionType\n",
    "from seq2seq_translation.rnn import EncoderRNN, AttnDecoderRNN, EncoderDecoder"
   ],
   "metadata": {
    "collapsed": false,
    "ExecuteTime": {
     "end_time": "2024-10-21T20:59:39.777695Z",
     "start_time": "2024-10-21T20:59:39.772730Z"
    }
   },
   "id": "c0606ff493ac9004",
   "execution_count": 20
  },
  {
   "cell_type": "code",
   "outputs": [],
   "source": [
    "torch.random.manual_seed(1234)\n",
    "np.random.seed(1234)"
   ],
   "metadata": {
    "collapsed": false,
    "ExecuteTime": {
     "end_time": "2024-10-21T20:56:05.930473Z",
     "start_time": "2024-10-21T20:56:05.926593Z"
    }
   },
   "id": "af4d11d59d4483b5",
   "execution_count": 10
  },
  {
   "cell_type": "code",
   "outputs": [],
   "source": [
    "source_tokenizer = SentencePieceTokenizer(model_prefix='/Users/adam.amster/2024-10-03-sequence_to_sequence_models_1/tokenizer/30000/en30000')\n",
    "target_tokenizer = SentencePieceTokenizer(model_prefix='/Users/adam.amster/2024-10-03-sequence_to_sequence_models_1/tokenizer/30000/fr30000')"
   ],
   "metadata": {
    "collapsed": false,
    "ExecuteTime": {
     "end_time": "2024-10-21T20:56:05.974775Z",
     "start_time": "2024-10-21T20:56:05.933328Z"
    }
   },
   "id": "72ee411852f26993",
   "execution_count": 11
  },
  {
   "cell_type": "code",
   "outputs": [],
   "source": [
    "def construct_model_attention():\n",
    "\tencoder = EncoderRNN(\n",
    "\t\tinput_size=source_tokenizer.processor.vocab_size(),\n",
    "\t\thidden_size=1000,\n",
    "\t\tbidirectional=True,\n",
    "\t\tpad_idx=source_tokenizer.processor.pad_id(),\n",
    "\t\tembedding_dim=1000,\n",
    "\t\tnum_layers=4,\n",
    "\t)\n",
    "\n",
    "\tdecoder = AttnDecoderRNN(\n",
    "\t\thidden_size=1000,\n",
    "\t\tattention_size=1000,\n",
    "\t\toutput_size=target_tokenizer.processor.vocab_size(),\n",
    "\t\tencoder_bidirectional=True,\n",
    "\t\tmax_len=200,\n",
    "\t\tattention_type=AttentionType.CosineSimilarityAttention,\n",
    "\t\tencoder_output_size=encoder.output_size,\n",
    "\t\tpad_idx=source_tokenizer.processor.pad_id(),\n",
    "\t\tnum_embeddings=target_tokenizer.processor.vocab_size(),\n",
    "\t\tsos_token_id=source_tokenizer.processor.bos_id(),\n",
    "\t\tembedding_dim=1000,\n",
    "\t\tnum_layers=4,\n",
    "\t\teos_token_id=target_tokenizer.processor.eos_id()\n",
    "\t)\n",
    "\t\n",
    "\tencoder.load_state_dict(\n",
    "\t\t_fix_model_state_dict(torch.load('/Users/adam.amster/2024-10-03-sequence_to_sequence_models_1/weights/attention/encoder.pt', map_location='cpu'))\n",
    "\t)\n",
    "\tdecoder.load_state_dict(\n",
    "\t\t_fix_model_state_dict(torch.load('/Users/adam.amster/2024-10-03-sequence_to_sequence_models_1/weights/attention/decoder.pt', map_location='cpu'))\n",
    "\t)\n",
    "\tencoder_decoder = EncoderDecoder(\n",
    "\t\tencoder=encoder,\n",
    "\t\tdecoder=decoder\n",
    "\t)\n",
    "\tencoder_decoder.eval()\n",
    "\t\n",
    "\treturn encoder_decoder"
   ],
   "metadata": {
    "collapsed": true,
    "ExecuteTime": {
     "end_time": "2024-10-21T20:56:05.983528Z",
     "start_time": "2024-10-21T20:56:05.977137Z"
    }
   },
   "id": "initial_id",
   "execution_count": 12
  },
  {
   "cell_type": "code",
   "outputs": [],
   "source": [
    "encoder_decoder = construct_model_attention()"
   ],
   "metadata": {
    "collapsed": false,
    "ExecuteTime": {
     "end_time": "2024-10-21T20:56:10.101013Z",
     "start_time": "2024-10-21T20:56:05.986690Z"
    }
   },
   "id": "4f7224dd90a36f03",
   "execution_count": 13
  },
  {
   "cell_type": "code",
   "outputs": [],
   "source": [
    "os.environ['DEVICE'] = 'cpu'"
   ],
   "metadata": {
    "collapsed": false,
    "ExecuteTime": {
     "end_time": "2024-10-21T20:56:10.119746Z",
     "start_time": "2024-10-21T20:56:10.106785Z"
    }
   },
   "id": "1fbf90ed4921deaf",
   "execution_count": 14
  },
  {
   "cell_type": "code",
   "outputs": [
    {
     "name": "stdout",
     "output_type": "stream",
     "text": [
      "input: I have socks.\n",
      "pred: J'ai des chaussettes.\n",
      "\n",
      "input: I have socks that are thick and made of wool because it is cold outside; it is comfortable to wear around the house while I look outside at the white snow gently falling to the ground.\n",
      "pred: J'ai des chaussettes épais et faites de laine parce qu'il est froid à l'extérieur; il est confortable de m'habiller autour de la maison alors que je regarde à l'extérieur à la neige blanche qui tombe doucement au sol.\n"
     ]
    }
   ],
   "source": [
    "test_sentences = ('I have socks.', 'I have socks that are thick and made of wool because it is cold outside; it is comfortable to wear around the house while I look outside at the white snow gently falling to the ground.')\n",
    "\n",
    "for sent in test_sentences:\n",
    "\tinput_ = source_tokenizer.processor.encode(sent)\n",
    "\t\n",
    "\t# add sos and eos tokens\n",
    "\tinput_ = [source_tokenizer.processor.bos_id()] + input_ + [source_tokenizer.processor.eos_id()]\n",
    "\t\n",
    "\tsequence_generator = BeamSearchSequenceGenerator(\n",
    "\t\tencoder_decoder=encoder_decoder,\n",
    "\t\ttokenizer=target_tokenizer,\n",
    "\t)\n",
    "\twith torch.no_grad():\n",
    "\t\tpred = sequence_generator.generate(input_tensor=torch.tensor(input_), input_lengths=[len(input_)])\n",
    "\t\n",
    "\t# it returns list of top scoring beams. select best one, and get decoded text\n",
    "\tpred = pred[0][0]\n",
    "\tprint(f'input: {sent}')\n",
    "\tprint(f'pred: {pred}')\n",
    "\tprint('\\n')"
   ],
   "metadata": {
    "collapsed": false,
    "ExecuteTime": {
     "end_time": "2024-10-21T21:11:05.177687Z",
     "start_time": "2024-10-21T21:10:42.418965Z"
    }
   },
   "id": "da6dd295b6bc46d1",
   "execution_count": 30
  }
 ],
 "metadata": {
  "kernelspec": {
   "display_name": "Python 3",
   "language": "python",
   "name": "python3"
  },
  "language_info": {
   "codemirror_mode": {
    "name": "ipython",
    "version": 2
   },
   "file_extension": ".py",
   "mimetype": "text/x-python",
   "name": "python",
   "nbconvert_exporter": "python",
   "pygments_lexer": "ipython2",
   "version": "2.7.6"
  }
 },
 "nbformat": 4,
 "nbformat_minor": 5
}
