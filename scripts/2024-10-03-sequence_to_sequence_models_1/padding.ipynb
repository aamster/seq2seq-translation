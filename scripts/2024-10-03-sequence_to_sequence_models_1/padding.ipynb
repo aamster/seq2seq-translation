{
 "cells": [
  {
   "cell_type": "code",
   "execution_count": 1,
   "id": "initial_id",
   "metadata": {
    "collapsed": true,
    "ExecuteTime": {
     "end_time": "2024-10-13T15:25:54.942190Z",
     "start_time": "2024-10-13T15:25:38.619351Z"
    }
   },
   "outputs": [
    {
     "name": "stderr",
     "output_type": "stream",
     "text": [
      "[2024-10-13 11:25:49,623] torch.distributed.elastic.multiprocessing.redirects: [WARNING] NOTE: Redirects are currently not supported in Windows or MacOs.\n"
     ]
    }
   ],
   "source": [
    "import os\n",
    "from pathlib import Path\n",
    "\n",
    "import numpy as np\n",
    "import torch\n",
    "\n",
    "from seq2seq_translation.datasets.datasets import LanguagePairsDatasets\n",
    "from seq2seq_translation.sentence_pairs_dataset import SentencePairsDataset\n",
    "from seq2seq_translation.tokenization.sentencepiece_tokenizer import SentencePieceTokenizer\n",
    "from seq2seq_translation.run import _fix_model_state_dict\n",
    "from seq2seq_translation.attention import AttentionType\n",
    "from seq2seq_translation.rnn import EncoderRNN, AttnDecoderRNN\n",
    "from seq2seq_translation.train_evaluate import inference"
   ]
  },
  {
   "cell_type": "code",
   "outputs": [],
   "source": [
    "torch.random.manual_seed(1234)\n",
    "np.random.seed(1234)"
   ],
   "metadata": {
    "collapsed": false,
    "ExecuteTime": {
     "end_time": "2024-10-13T15:25:54.965111Z",
     "start_time": "2024-10-13T15:25:54.945156Z"
    }
   },
   "id": "f9bf1aa3ecd3dd8b",
   "execution_count": 2
  },
  {
   "cell_type": "code",
   "outputs": [],
   "source": [
    "source_tokenizer = SentencePieceTokenizer(model_prefix='/Users/adam.amster/seq2seq_translation/tokenizer/30000/en30000')\n",
    "target_tokenizer = SentencePieceTokenizer(model_prefix='/Users/adam.amster/seq2seq_translation/tokenizer/30000/fr30000')"
   ],
   "metadata": {
    "collapsed": false,
    "ExecuteTime": {
     "end_time": "2024-10-13T15:27:12.969209Z",
     "start_time": "2024-10-13T15:25:54.966475Z"
    }
   },
   "id": "2912d74fc5e0dfca",
   "execution_count": 3
  },
  {
   "cell_type": "code",
   "outputs": [],
   "source": [
    "os.environ['DEVICE'] = 'cpu'"
   ],
   "metadata": {
    "collapsed": false,
    "ExecuteTime": {
     "end_time": "2024-10-13T15:27:12.975551Z",
     "start_time": "2024-10-13T15:27:12.971662Z"
    }
   },
   "id": "ba2ba08ffa1727fe",
   "execution_count": 4
  },
  {
   "cell_type": "code",
   "outputs": [],
   "source": [
    "def construct_test_dset():\n",
    "\ttest_datasets = LanguagePairsDatasets(\n",
    "\t\t\tdata_path=Path('/Users/adam.amster/seq2seq_translation/datasets/wmt14_test'),\n",
    "\t\t\tsource_lang='en',\n",
    "\t\t\ttarget_lang='fr',\n",
    "\t\t\tis_test=True\n",
    "\t)\n",
    "\t\n",
    "\ttest_dset = SentencePairsDataset(\n",
    "\t\tdatasets=test_datasets,\n",
    "\t\tidxs=np.arange(len(test_datasets)),\n",
    "\t\tsource_tokenizer=source_tokenizer,\n",
    "\t\ttarget_tokenizer=target_tokenizer,\n",
    "\t\tmax_length=None,\n",
    "\t)\n",
    "\treturn test_dset"
   ],
   "metadata": {
    "collapsed": false,
    "ExecuteTime": {
     "end_time": "2024-10-13T15:27:12.985522Z",
     "start_time": "2024-10-13T15:27:12.981253Z"
    }
   },
   "id": "a422f4929dcb5839",
   "execution_count": 5
  },
  {
   "cell_type": "code",
   "outputs": [
    {
     "data": {
      "text/plain": "Resolving data files:   0%|          | 0/30 [00:00<?, ?it/s]",
      "application/vnd.jupyter.widget-view+json": {
       "version_major": 2,
       "version_minor": 0,
       "model_id": "7f0e77ec85ac4a0c8fafbe27587b1ee6"
      }
     },
     "metadata": {},
     "output_type": "display_data"
    }
   ],
   "source": [
    "test_dset = construct_test_dset()"
   ],
   "metadata": {
    "collapsed": false,
    "ExecuteTime": {
     "end_time": "2024-10-13T15:28:15.449222Z",
     "start_time": "2024-10-13T15:27:12.987570Z"
    }
   },
   "id": "b4cf711da8e8f148",
   "execution_count": 6
  },
  {
   "cell_type": "code",
   "outputs": [],
   "source": [
    "def construct_model_attention():\n",
    "\tencoder = EncoderRNN(\n",
    "\t\tinput_size=source_tokenizer.processor.vocab_size(),\n",
    "\t\thidden_size=1000,\n",
    "\t\tbidirectional=True,\n",
    "\t\tpad_idx=source_tokenizer.processor.pad_id(),\n",
    "\t\tembedding_dim=1000,\n",
    "\t\tnum_layers=4,\n",
    "\t)\n",
    "\n",
    "\tdecoder = AttnDecoderRNN(\n",
    "\t\thidden_size=1000,\n",
    "\t\tattention_size=1000,\n",
    "\t\toutput_size=target_tokenizer.processor.vocab_size(),\n",
    "\t\tencoder_bidirectional=True,\n",
    "\t\tmax_len=200,\n",
    "\t\tattention_type=AttentionType.CosineSimilarityAttention,\n",
    "\t\tencoder_output_size=encoder.output_size,\n",
    "\t\tpad_idx=source_tokenizer.processor.pad_id(),\n",
    "\t\tnum_embeddings=target_tokenizer.processor.vocab_size(),\n",
    "\t\tsos_token_id=source_tokenizer.processor.bos_id(),\n",
    "\t\tembedding_dim=1000,\n",
    "\t\tnum_layers=4,\n",
    "\t\teos_token_id=target_tokenizer.processor.eos_id()\n",
    "\t)\n",
    "\t\n",
    "\tencoder.load_state_dict(\n",
    "\t\t_fix_model_state_dict(torch.load('/Users/adam.amster/seq2seq_translation/weights/attention/encoder.pt', map_location='cpu'))\n",
    "\t)\n",
    "\tdecoder.load_state_dict(\n",
    "\t\t_fix_model_state_dict(torch.load('/Users/adam.amster/seq2seq_translation/weights/attention/decoder.pt', map_location='cpu'))\n",
    "\t)\n",
    "\tencoder.eval()\n",
    "\tdecoder.eval()\n",
    "\t\n",
    "\treturn encoder, decoder"
   ],
   "metadata": {
    "collapsed": false,
    "ExecuteTime": {
     "end_time": "2024-10-13T15:28:15.455305Z",
     "start_time": "2024-10-13T15:28:15.450567Z"
    }
   },
   "id": "664824e0a8563f58",
   "execution_count": 7
  },
  {
   "cell_type": "code",
   "outputs": [],
   "source": [
    "def check_padding():\n",
    "\tencoder, decoder = construct_model_attention()\n",
    "\tfor i in range(5):\n",
    "\t\tnum_pad_tokens = torch.randint(size=(1, 1), low=0, high=50)[0].item()\n",
    "\t\tdset_idx = torch.randint(size=(1, 1), low=0, high=len(test_dset))[0].item()\n",
    "\t\t\n",
    "\t\tinput = test_dset[dset_idx][0]\n",
    "\t\tinput_with_pad_tokens = torch.cat([input, (torch.ones(num_pad_tokens) * source_tokenizer.processor.pad_id()).long()])\n",
    "\t\t\n",
    "\t\tprint(f'input: {source_tokenizer.decode(input)}')\n",
    "\t\t\n",
    "\t\t_, _, _, decoded_ids_no_padding = inference(\n",
    "\t\t\tencoder=encoder,\n",
    "\t\t\tdecoder=decoder,\n",
    "\t\t\tinput_tensor=input.unsqueeze(0),\n",
    "\t\t\tinput_lengths=[len(input)]\n",
    "\t\t)\n",
    "\t\t\n",
    "\t\t_, _, _, decoded_ids_padding = inference(\n",
    "\t\t\tencoder=encoder,\n",
    "\t\t\tdecoder=decoder,\n",
    "\t\t\tinput_tensor=input_with_pad_tokens.unsqueeze(0),\n",
    "\t\t\tinput_lengths=[len(input_with_pad_tokens)]\n",
    "\t\t)\n",
    "\t\t\n",
    "\t\tprint(f'output with no pad tokens appended to input == output with {num_pad_tokens} pad tokens appended to input', (decoded_ids_padding == decoded_ids_padding).all().item())\n",
    "\t\t\n",
    "\t\tprint('='*11)"
   ],
   "metadata": {
    "collapsed": false,
    "ExecuteTime": {
     "end_time": "2024-10-13T15:28:15.461357Z",
     "start_time": "2024-10-13T15:28:15.456822Z"
    }
   },
   "id": "12d0991855221ac9",
   "execution_count": 8
  },
  {
   "cell_type": "code",
   "outputs": [
    {
     "name": "stdout",
     "output_type": "stream",
     "text": [
      "input: Moore told reporters that the initial autopsy indicated Johnson died as a result of \"positional asphyxia.\"\n",
      "output with no pad tokens appended to input == output with 42 pad tokens appended to input True\n",
      "===========\n",
      "input: \"The alarms went off one after the other as it took reinforcements to deal with the building, because the buildings here are close together,\" explained France Loiselle, spokesperson for the Quebec fire service.\n",
      "output with no pad tokens appended to input == output with 13 pad tokens appended to input True\n",
      "===========\n",
      "input: Rehousing Due to Rats Causes Strife in La Seyne\n",
      "output with no pad tokens appended to input == output with 29 pad tokens appended to input True\n",
      "===========\n",
      "input: I see her eyes resting on me.\n",
      "output with no pad tokens appended to input == output with 26 pad tokens appended to input True\n",
      "===========\n",
      "input: Moreover, Kiev needs liquid assets to pay for its gas imports from Russia, which accuses it of not having paid a bill of 882 million dollars.\n",
      "output with no pad tokens appended to input == output with 3 pad tokens appended to input True\n",
      "===========\n"
     ]
    }
   ],
   "source": [
    "check_padding()"
   ],
   "metadata": {
    "collapsed": false,
    "ExecuteTime": {
     "end_time": "2024-10-13T15:28:59.649891Z",
     "start_time": "2024-10-13T15:28:15.462934Z"
    }
   },
   "id": "b5ba3931accd1050",
   "execution_count": 9
  }
 ],
 "metadata": {
  "kernelspec": {
   "display_name": "Python 3",
   "language": "python",
   "name": "python3"
  },
  "language_info": {
   "codemirror_mode": {
    "name": "ipython",
    "version": 2
   },
   "file_extension": ".py",
   "mimetype": "text/x-python",
   "name": "python",
   "nbconvert_exporter": "python",
   "pygments_lexer": "ipython2",
   "version": "2.7.6"
  }
 },
 "nbformat": 4,
 "nbformat_minor": 5
}
