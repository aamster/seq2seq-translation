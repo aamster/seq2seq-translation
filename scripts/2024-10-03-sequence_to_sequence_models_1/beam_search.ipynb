{
 "cells": [
  {
   "cell_type": "code",
   "outputs": [],
   "source": [
    "from pathlib import Path\n",
    "\n",
    "import numpy as np\n",
    "import pandas as pd\n",
    "import torch\n",
    "import plotly.express as px\n",
    "\n",
    "from seq2seq_translation.tokenization.sentencepiece_tokenizer import SentencePieceTokenizer\n",
    "from seq2seq_translation.datasets.datasets import LanguagePairsDatasets"
   ],
   "metadata": {
    "collapsed": false,
    "ExecuteTime": {
     "end_time": "2024-10-20T19:11:41.891198Z",
     "start_time": "2024-10-20T19:11:28.693792Z"
    }
   },
   "id": "b6344afaeeab799a",
   "execution_count": 1
  },
  {
   "cell_type": "code",
   "outputs": [],
   "source": [
    "attention = pd.read_csv('/Users/adam.amster/seq2seq_translation/results/eval_metrics_attention_wmt14_test_wmt14_bleu.csv')\n",
    "greedy = pd.read_csv('/Users/adam.amster/seq2seq_translation/results/eval_metrics_greedy_wmt14_test.csv')\n",
    "\n",
    "source_tokenizer = SentencePieceTokenizer(model_prefix='/Users/adam.amster/seq2seq_translation/tokenizer/30000/en30000')\n",
    "target_tokenizer = SentencePieceTokenizer(model_prefix='/Users/adam.amster/seq2seq_translation/tokenizer/30000/fr30000')"
   ],
   "metadata": {
    "collapsed": true,
    "ExecuteTime": {
     "end_time": "2024-10-20T19:11:42.026527Z",
     "start_time": "2024-10-20T19:11:41.892844Z"
    }
   },
   "id": "initial_id",
   "execution_count": 2
  },
  {
   "cell_type": "code",
   "outputs": [],
   "source": [
    "\n",
    "\n",
    "from seq2seq_translation.sentence_pairs_dataset import SentencePairsDataset\n",
    "\n",
    "\n",
    "def construct_test_dset():\n",
    "\ttest_datasets = LanguagePairsDatasets(\n",
    "\t\t\tout_dir=Path('/Users/adam.amster/seq2seq_translation/datasets/wmt14_test'),\n",
    "\t\t\tsource_lang='en',\n",
    "\t\t\ttarget_lang='fr',\n",
    "\t\t\tis_test=True\n",
    "\t)\n",
    "\t\n",
    "\ttest_dset = SentencePairsDataset(\n",
    "\t\tdatasets=test_datasets,\n",
    "\t\tidxs=np.arange(len(test_datasets)),\n",
    "\t\tsource_tokenizer=source_tokenizer,\n",
    "\t\ttarget_tokenizer=target_tokenizer,\n",
    "\t\tmax_length=None,\n",
    "\t)\n",
    "\treturn test_dset"
   ],
   "metadata": {
    "collapsed": false,
    "ExecuteTime": {
     "end_time": "2024-10-20T19:11:42.041792Z",
     "start_time": "2024-10-20T19:11:42.028667Z"
    }
   },
   "id": "b00787bb2980f3f5",
   "execution_count": 3
  },
  {
   "cell_type": "code",
   "outputs": [
    {
     "data": {
      "text/plain": "Resolving data files:   0%|          | 0/30 [00:00<?, ?it/s]",
      "application/vnd.jupyter.widget-view+json": {
       "version_major": 2,
       "version_minor": 0,
       "model_id": "8ccbda3f34de4017a390fac51eaf52f6"
      }
     },
     "metadata": {},
     "output_type": "display_data"
    }
   ],
   "source": [
    "test_dset = construct_test_dset()"
   ],
   "metadata": {
    "collapsed": false,
    "ExecuteTime": {
     "end_time": "2024-10-20T19:11:45.737938Z",
     "start_time": "2024-10-20T19:11:42.044435Z"
    }
   },
   "id": "a39b8bf0bd796b36",
   "execution_count": 4
  },
  {
   "cell_type": "code",
   "outputs": [],
   "source": [
    "def get_beam_search_better_examples():\n",
    "\tdiff = (attention['bleu'] - greedy['bleu']).tolist()\n",
    "\tdiff_idx = torch.sort(-torch.tensor(diff)).indices\n",
    "\tfor idx in diff_idx[:10]:\n",
    "\t\tidx = idx.item()\n",
    "\t\tprint('beam bleu', attention.iloc[idx]['bleu'])\n",
    "\t\tprint('greedy bleu', greedy.iloc[idx]['bleu'])\n",
    "\t\tprint('input', source_tokenizer.decode(test_dset[idx][0]))\n",
    "\t\tprint('attention pred', attention.iloc[idx]['pred'])\n",
    "\t\tprint('greedy pred', greedy.iloc[idx]['pred'])\n",
    "\t\tprint('='*11)"
   ],
   "metadata": {
    "collapsed": false,
    "ExecuteTime": {
     "end_time": "2024-10-20T19:11:45.744685Z",
     "start_time": "2024-10-20T19:11:45.739665Z"
    }
   },
   "id": "e016b3f4bd09f8f8",
   "execution_count": 5
  },
  {
   "cell_type": "code",
   "outputs": [],
   "source": [
    "def get_greedy_better_examples():\n",
    "\tdiff = (greedy['bleu'] - attention['bleu']).tolist()\n",
    "\tdiff_idx = torch.sort(-torch.tensor(diff)).indices\n",
    "\tfor idx in diff_idx[:10]:\n",
    "\t\tidx = idx.item()\n",
    "\t\tprint('beam bleu', attention.iloc[idx]['bleu'])\n",
    "\t\tprint('greedy bleu', greedy.iloc[idx]['bleu'])\n",
    "\t\tprint('input', source_tokenizer.decode(test_dset[idx][0]))\n",
    "\t\tprint('attention pred', attention.iloc[idx]['pred'])\n",
    "\t\tprint('greedy pred', greedy.iloc[idx]['pred'])\n",
    "\t\tprint('='*11)"
   ],
   "metadata": {
    "collapsed": false,
    "ExecuteTime": {
     "end_time": "2024-10-20T19:11:45.760881Z",
     "start_time": "2024-10-20T19:11:45.746864Z"
    }
   },
   "id": "e5a6168708df846d",
   "execution_count": 6
  },
  {
   "cell_type": "code",
   "outputs": [],
   "source": [
    "# Calculate the difference between 'bleu' scores\n",
    "difference = attention['bleu'] - greedy['bleu']\n",
    "\n",
    "# Create a histogram using Plotly\n",
    "fig = px.histogram(difference, title='Beam search - greedy search BLEU score', nbins=20)\n",
    "\n",
    "# Update the x-axis label\n",
    "fig.update_xaxes(title_text='difference')\n",
    "\n",
    "fig.update_layout(\n",
    "\tautosize=True,\n",
    "    plot_bgcolor='rgba(0,0,0,0)',  # Transparent plot area\n",
    "    paper_bgcolor='rgba(0,0,0,0)',  # Transparent outer background\n",
    "    font=dict(color='black'),  # Set tick label color for visibility\n",
    ")\n",
    "\n",
    "# Show the plot\n",
    "fig.write_json('/Users/adam.amster/aamster.github.io/assets/plotly/2024-10-03-sequence_to_sequence_translation/beam_search.json')"
   ],
   "metadata": {
    "collapsed": false,
    "ExecuteTime": {
     "end_time": "2024-10-20T19:24:56.429305Z",
     "start_time": "2024-10-20T19:24:56.360352Z"
    }
   },
   "id": "605298073b93f296",
   "execution_count": 11
  }
 ],
 "metadata": {
  "kernelspec": {
   "display_name": "Python 3",
   "language": "python",
   "name": "python3"
  },
  "language_info": {
   "codemirror_mode": {
    "name": "ipython",
    "version": 2
   },
   "file_extension": ".py",
   "mimetype": "text/x-python",
   "name": "python",
   "nbconvert_exporter": "python",
   "pygments_lexer": "ipython2",
   "version": "2.7.6"
  }
 },
 "nbformat": 4,
 "nbformat_minor": 5
}
