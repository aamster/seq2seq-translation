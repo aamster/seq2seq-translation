{
 "cells": [
  {
   "cell_type": "code",
   "id": "initial_id",
   "metadata": {
    "collapsed": true,
    "ExecuteTime": {
     "end_time": "2025-05-12T12:15:30.315576Z",
     "start_time": "2025-05-12T12:15:30.312295Z"
    }
   },
   "source": [
    "from torch.nn import BatchNorm1d, BatchNorm2d, LayerNorm\n",
    "import torch"
   ],
   "outputs": [],
   "execution_count": 80
  },
  {
   "metadata": {
    "ExecuteTime": {
     "end_time": "2025-05-11T19:27:29.957160Z",
     "start_time": "2025-05-11T19:27:29.923245Z"
    }
   },
   "cell_type": "code",
   "source": [
    "B = 4\n",
    "T = 1024\n",
    "D = 512\n",
    "\n",
    "x = torch.randn((B, T, D))"
   ],
   "id": "9b6ccc8f7c349926",
   "outputs": [],
   "execution_count": 73
  },
  {
   "metadata": {
    "ExecuteTime": {
     "end_time": "2025-05-12T12:15:59.066310Z",
     "start_time": "2025-05-12T12:15:59.051338Z"
    }
   },
   "cell_type": "code",
   "source": [
    "batch_norm = BatchNorm1d(num_features=D, eps=0)\n",
    "with torch.no_grad():\n",
    "    y = batch_norm(\n",
    "        x.transpose(2, 1)   # B, D, T\n",
    "    )\n",
    "\n",
    "torch.testing.assert_close(y.mean(dim=(0, 2)), torch.zeros(size=(D,)))\n",
    "torch.testing.assert_close(y.std(dim=(0, 2), unbiased=False), torch.ones(size=(D,)))"
   ],
   "id": "1b40c107a438d954",
   "outputs": [],
   "execution_count": 83
  },
  {
   "metadata": {
    "ExecuteTime": {
     "end_time": "2025-05-12T12:15:55.363407Z",
     "start_time": "2025-05-12T12:15:55.342477Z"
    }
   },
   "cell_type": "code",
   "source": [
    "layer_norm = LayerNorm(D, eps=0)\n",
    "with torch.no_grad():\n",
    "    y = layer_norm(x)\n",
    "torch.testing.assert_close(y.mean(dim=-1), torch.zeros(size=(B, T)))\n",
    "torch.testing.assert_close(y.std(dim=-1, unbiased=False), torch.ones(size=(B, T)))"
   ],
   "id": "49a82b10f92b86cb",
   "outputs": [],
   "execution_count": 82
  },
  {
   "metadata": {
    "ExecuteTime": {
     "end_time": "2025-05-12T12:20:19.822148Z",
     "start_time": "2025-05-12T12:20:19.812917Z"
    }
   },
   "cell_type": "code",
   "source": [
    "from torch.nn import Conv2d\n",
    "\n",
    "out_channels = 5\n",
    "batch_norm = BatchNorm2d(num_features=out_channels, eps=0)\n",
    "conv_out = Conv2d(in_channels=3, out_channels=out_channels, kernel_size=3)(torch.randn((B, 3, 10, 10)))\n",
    "with torch.no_grad():\n",
    "    y = batch_norm(conv_out)\n",
    "\n",
    "torch.testing.assert_close(y.mean(dim=(0, 2, 3)), torch.zeros(size=(out_channels,)))\n",
    "torch.testing.assert_close(y.std(dim=(0, 2, 3), unbiased=False), torch.ones(size=(out_channels,)))"
   ],
   "id": "aa7190e20cb33ed4",
   "outputs": [],
   "execution_count": 88
  }
 ],
 "metadata": {
  "kernelspec": {
   "display_name": "Python 3",
   "language": "python",
   "name": "python3"
  },
  "language_info": {
   "codemirror_mode": {
    "name": "ipython",
    "version": 2
   },
   "file_extension": ".py",
   "mimetype": "text/x-python",
   "name": "python",
   "nbconvert_exporter": "python",
   "pygments_lexer": "ipython2",
   "version": "2.7.6"
  }
 },
 "nbformat": 4,
 "nbformat_minor": 5
}
