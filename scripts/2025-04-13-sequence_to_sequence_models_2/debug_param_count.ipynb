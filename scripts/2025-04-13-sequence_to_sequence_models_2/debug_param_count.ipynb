{
 "cells": [
  {
   "cell_type": "code",
   "id": "initial_id",
   "metadata": {
    "collapsed": true,
    "ExecuteTime": {
     "end_time": "2025-07-07T22:52:14.552153Z",
     "start_time": "2025-07-07T22:52:08.801394Z"
    }
   },
   "source": [
    "import json\n",
    "from seq2seq_translation.config.transformer_config import TransformerConfig\n",
    "\n",
    "with open('/Users/adam.amster/Downloads/encoder_decoder_config.json') as f:\n",
    "    config = json.load(f)\n",
    "config = TransformerConfig.model_validate(config)"
   ],
   "outputs": [],
   "execution_count": 1
  },
  {
   "metadata": {
    "ExecuteTime": {
     "end_time": "2025-07-07T22:52:34.911352Z",
     "start_time": "2025-07-07T22:52:15.035519Z"
    }
   },
   "cell_type": "code",
   "source": [
    "import torch\n",
    "from seq2seq_translation.run import _fix_model_state_dict\n",
    "from seq2seq_translation.models.transformer.encoder_decoder import EncoderDecoderTransformer\n",
    "\n",
    "\n",
    "def construct_model():\n",
    "\tmodel = EncoderDecoderTransformer(\n",
    "        n_attention_heads=config.n_head,\n",
    "        n_layers=config.num_layers,\n",
    "        vocab_size=30000,\n",
    "        d_model=config.d_model,\n",
    "        block_size=config.fixed_length,\n",
    "        feedforward_hidden_dim=config.feedforward_hidden_dim,\n",
    "        norm_first=config.norm_first,\n",
    "        mlp_activation=config.activation,\n",
    "        positional_encoding_type=config.positional_encoding_type,\n",
    "        sos_token_id=1,\n",
    "        eos_token_id=2,\n",
    "        pad_token_id=3\n",
    "\t)\n",
    "\n",
    "\tmodel.load_state_dict(\n",
    "\t\t_fix_model_state_dict(torch.load('/Users/adam.amster/Downloads/ckpt.pt', map_location='cpu')[\"model\"])\n",
    "\t)\n",
    "\n",
    "\tmodel.eval()\n",
    "\treturn model\n",
    "model = construct_model()"
   ],
   "id": "a8420d8b4d4b57e9",
   "outputs": [],
   "execution_count": 2
  },
  {
   "metadata": {
    "ExecuteTime": {
     "end_time": "2025-07-07T22:52:34.929697Z",
     "start_time": "2025-07-07T22:52:34.924910Z"
    }
   },
   "cell_type": "code",
   "source": "model.num_params",
   "id": "68ee34c1f3ab5bc1",
   "outputs": [
    {
     "data": {
      "text/plain": [
       "59499520"
      ]
     },
     "execution_count": 3,
     "metadata": {},
     "output_type": "execute_result"
    }
   ],
   "execution_count": 3
  },
  {
   "metadata": {
    "ExecuteTime": {
     "end_time": "2025-07-08T11:49:27.038650Z",
     "start_time": "2025-07-08T11:49:27.034328Z"
    }
   },
   "cell_type": "code",
   "source": [
    "from collections import Counter\n",
    "cnt = Counter()\n",
    "for n, p in model.named_parameters():\n",
    "    if p.requires_grad:\n",
    "        cnt[p.shape] += p.numel()\n",
    "\n",
    "# top 15 largest shapes\n",
    "for shp, num in cnt.most_common(15):\n",
    "    print(f\"{str(shp):>18} : {num/1e6:6.2f} M\")\n",
    "print(f\"TOTAL                 : {sum(cnt.values())/1e6:6.2f} M\")"
   ],
   "id": "f205af713de1c9cc",
   "outputs": [
    {
     "name": "stdout",
     "output_type": "stream",
     "text": [
      "torch.Size([30000, 512]) :  30.72 M\n",
      "torch.Size([2048, 512]) :  12.58 M\n",
      "torch.Size([512, 2048]) :  12.58 M\n",
      "torch.Size([1536, 512]) :   9.44 M\n",
      "torch.Size([512, 512]) :   6.29 M\n",
      "torch.Size([1024, 512]) :   3.15 M\n",
      "torch.Size([128, 512]) :   0.13 M\n",
      " torch.Size([512]) :   0.05 M\n",
      "torch.Size([2048]) :   0.02 M\n",
      "torch.Size([1536]) :   0.02 M\n",
      "torch.Size([1024]) :   0.01 M\n",
      "TOTAL                 :  74.99 M\n"
     ]
    }
   ],
   "execution_count": 20
  },
  {
   "metadata": {
    "ExecuteTime": {
     "end_time": "2025-07-08T12:06:27.910227Z",
     "start_time": "2025-07-08T12:06:27.906711Z"
    }
   },
   "cell_type": "code",
   "source": "6 * 65*10**6*50000*100000/1e18",
   "id": "4385b18c95960652",
   "outputs": [
    {
     "data": {
      "text/plain": [
       "1.95"
      ]
     },
     "execution_count": 35,
     "metadata": {},
     "output_type": "execute_result"
    }
   ],
   "execution_count": 35
  },
  {
   "metadata": {
    "ExecuteTime": {
     "end_time": "2025-07-08T12:27:55.178214Z",
     "start_time": "2025-07-08T12:27:55.173339Z"
    }
   },
   "cell_type": "code",
   "source": "6*158*10**6*6.1*10**9",
   "id": "c214c0c26df4d121",
   "outputs": [
    {
     "data": {
      "text/plain": [
       "5.7828e+18"
      ]
     },
     "execution_count": 43,
     "metadata": {},
     "output_type": "execute_result"
    }
   ],
   "execution_count": 43
  }
 ],
 "metadata": {
  "kernelspec": {
   "display_name": "Python 3",
   "language": "python",
   "name": "python3"
  },
  "language_info": {
   "codemirror_mode": {
    "name": "ipython",
    "version": 2
   },
   "file_extension": ".py",
   "mimetype": "text/x-python",
   "name": "python",
   "nbconvert_exporter": "python",
   "pygments_lexer": "ipython2",
   "version": "2.7.6"
  }
 },
 "nbformat": 4,
 "nbformat_minor": 5
}
