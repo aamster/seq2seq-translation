{
 "cells": [
  {
   "cell_type": "code",
   "id": "initial_id",
   "metadata": {
    "collapsed": true,
    "ExecuteTime": {
     "end_time": "2025-06-14T16:52:56.457482Z",
     "start_time": "2025-06-14T16:52:55.310969Z"
    }
   },
   "source": [
    "import pandas as pd\n",
    "import matplotlib.pyplot as plt"
   ],
   "outputs": [],
   "execution_count": 7
  },
  {
   "metadata": {
    "ExecuteTime": {
     "end_time": "2025-06-14T16:52:56.803825Z",
     "start_time": "2025-06-14T16:52:56.734317Z"
    }
   },
   "cell_type": "code",
   "source": [
    "data = pd.read_csv('~/Downloads/wandb_export_2025-06-12T09_13_49.744-04_00.csv')\n",
    "data"
   ],
   "id": "56d1c3d35d16819d",
   "outputs": [
    {
     "data": {
      "text/plain": [
       "       iter  gentle-snowball-198 - _step  gentle-snowball-198 - _step__MIN  \\\n",
       "0         0                            0                                 0   \n",
       "1      2000                            1                                 1   \n",
       "2      4000                            2                                 2   \n",
       "3      6000                            3                                 3   \n",
       "4      8000                            4                                 4   \n",
       "..      ...                          ...                               ...   \n",
       "110  220000                          110                               110   \n",
       "111  222000                          111                               111   \n",
       "112  224000                          112                               112   \n",
       "113  226000                          113                               113   \n",
       "114  228000                          114                               114   \n",
       "\n",
       "     gentle-snowball-198 - _step__MAX  gentle-snowball-198 - val_bleu_score  \\\n",
       "0                                   0                              0.000000   \n",
       "1                                   1                              0.045775   \n",
       "2                                   2                              0.206540   \n",
       "3                                   3                              0.245136   \n",
       "4                                   4                              0.259564   \n",
       "..                                ...                                   ...   \n",
       "110                               110                              0.349485   \n",
       "111                               111                              0.350281   \n",
       "112                               112                              0.350078   \n",
       "113                               113                              0.350841   \n",
       "114                               114                              0.350672   \n",
       "\n",
       "     gentle-snowball-198 - val_bleu_score__MIN  \\\n",
       "0                                     0.000000   \n",
       "1                                     0.045775   \n",
       "2                                     0.206540   \n",
       "3                                     0.245136   \n",
       "4                                     0.259564   \n",
       "..                                         ...   \n",
       "110                                   0.349485   \n",
       "111                                   0.350281   \n",
       "112                                   0.350078   \n",
       "113                                   0.350841   \n",
       "114                                   0.350672   \n",
       "\n",
       "     gentle-snowball-198 - val_bleu_score__MAX  \\\n",
       "0                                     0.000000   \n",
       "1                                     0.045775   \n",
       "2                                     0.206540   \n",
       "3                                     0.245136   \n",
       "4                                     0.259564   \n",
       "..                                         ...   \n",
       "110                                   0.349485   \n",
       "111                                   0.350281   \n",
       "112                                   0.350078   \n",
       "113                                   0.350841   \n",
       "114                                   0.350672   \n",
       "\n",
       "     gentle-snowball-198 - train_bleu_score  \\\n",
       "0                                  0.000000   \n",
       "1                                  0.044067   \n",
       "2                                  0.223155   \n",
       "3                                  0.273549   \n",
       "4                                  0.299790   \n",
       "..                                      ...   \n",
       "110                                0.437278   \n",
       "111                                0.438408   \n",
       "112                                0.436815   \n",
       "113                                0.437889   \n",
       "114                                0.438852   \n",
       "\n",
       "     gentle-snowball-198 - train_bleu_score__MIN  \\\n",
       "0                                       0.000000   \n",
       "1                                       0.044067   \n",
       "2                                       0.223155   \n",
       "3                                       0.273549   \n",
       "4                                       0.299790   \n",
       "..                                           ...   \n",
       "110                                     0.437278   \n",
       "111                                     0.438408   \n",
       "112                                     0.436815   \n",
       "113                                     0.437889   \n",
       "114                                     0.438852   \n",
       "\n",
       "     gentle-snowball-198 - train_bleu_score__MAX  \n",
       "0                                       0.000000  \n",
       "1                                       0.044067  \n",
       "2                                       0.223155  \n",
       "3                                       0.273549  \n",
       "4                                       0.299790  \n",
       "..                                           ...  \n",
       "110                                     0.437278  \n",
       "111                                     0.438408  \n",
       "112                                     0.436815  \n",
       "113                                     0.437889  \n",
       "114                                     0.438852  \n",
       "\n",
       "[115 rows x 10 columns]"
      ],
      "text/html": [
       "<div>\n",
       "<style scoped>\n",
       "    .dataframe tbody tr th:only-of-type {\n",
       "        vertical-align: middle;\n",
       "    }\n",
       "\n",
       "    .dataframe tbody tr th {\n",
       "        vertical-align: top;\n",
       "    }\n",
       "\n",
       "    .dataframe thead th {\n",
       "        text-align: right;\n",
       "    }\n",
       "</style>\n",
       "<table border=\"1\" class=\"dataframe\">\n",
       "  <thead>\n",
       "    <tr style=\"text-align: right;\">\n",
       "      <th></th>\n",
       "      <th>iter</th>\n",
       "      <th>gentle-snowball-198 - _step</th>\n",
       "      <th>gentle-snowball-198 - _step__MIN</th>\n",
       "      <th>gentle-snowball-198 - _step__MAX</th>\n",
       "      <th>gentle-snowball-198 - val_bleu_score</th>\n",
       "      <th>gentle-snowball-198 - val_bleu_score__MIN</th>\n",
       "      <th>gentle-snowball-198 - val_bleu_score__MAX</th>\n",
       "      <th>gentle-snowball-198 - train_bleu_score</th>\n",
       "      <th>gentle-snowball-198 - train_bleu_score__MIN</th>\n",
       "      <th>gentle-snowball-198 - train_bleu_score__MAX</th>\n",
       "    </tr>\n",
       "  </thead>\n",
       "  <tbody>\n",
       "    <tr>\n",
       "      <th>0</th>\n",
       "      <td>0</td>\n",
       "      <td>0</td>\n",
       "      <td>0</td>\n",
       "      <td>0</td>\n",
       "      <td>0.000000</td>\n",
       "      <td>0.000000</td>\n",
       "      <td>0.000000</td>\n",
       "      <td>0.000000</td>\n",
       "      <td>0.000000</td>\n",
       "      <td>0.000000</td>\n",
       "    </tr>\n",
       "    <tr>\n",
       "      <th>1</th>\n",
       "      <td>2000</td>\n",
       "      <td>1</td>\n",
       "      <td>1</td>\n",
       "      <td>1</td>\n",
       "      <td>0.045775</td>\n",
       "      <td>0.045775</td>\n",
       "      <td>0.045775</td>\n",
       "      <td>0.044067</td>\n",
       "      <td>0.044067</td>\n",
       "      <td>0.044067</td>\n",
       "    </tr>\n",
       "    <tr>\n",
       "      <th>2</th>\n",
       "      <td>4000</td>\n",
       "      <td>2</td>\n",
       "      <td>2</td>\n",
       "      <td>2</td>\n",
       "      <td>0.206540</td>\n",
       "      <td>0.206540</td>\n",
       "      <td>0.206540</td>\n",
       "      <td>0.223155</td>\n",
       "      <td>0.223155</td>\n",
       "      <td>0.223155</td>\n",
       "    </tr>\n",
       "    <tr>\n",
       "      <th>3</th>\n",
       "      <td>6000</td>\n",
       "      <td>3</td>\n",
       "      <td>3</td>\n",
       "      <td>3</td>\n",
       "      <td>0.245136</td>\n",
       "      <td>0.245136</td>\n",
       "      <td>0.245136</td>\n",
       "      <td>0.273549</td>\n",
       "      <td>0.273549</td>\n",
       "      <td>0.273549</td>\n",
       "    </tr>\n",
       "    <tr>\n",
       "      <th>4</th>\n",
       "      <td>8000</td>\n",
       "      <td>4</td>\n",
       "      <td>4</td>\n",
       "      <td>4</td>\n",
       "      <td>0.259564</td>\n",
       "      <td>0.259564</td>\n",
       "      <td>0.259564</td>\n",
       "      <td>0.299790</td>\n",
       "      <td>0.299790</td>\n",
       "      <td>0.299790</td>\n",
       "    </tr>\n",
       "    <tr>\n",
       "      <th>...</th>\n",
       "      <td>...</td>\n",
       "      <td>...</td>\n",
       "      <td>...</td>\n",
       "      <td>...</td>\n",
       "      <td>...</td>\n",
       "      <td>...</td>\n",
       "      <td>...</td>\n",
       "      <td>...</td>\n",
       "      <td>...</td>\n",
       "      <td>...</td>\n",
       "    </tr>\n",
       "    <tr>\n",
       "      <th>110</th>\n",
       "      <td>220000</td>\n",
       "      <td>110</td>\n",
       "      <td>110</td>\n",
       "      <td>110</td>\n",
       "      <td>0.349485</td>\n",
       "      <td>0.349485</td>\n",
       "      <td>0.349485</td>\n",
       "      <td>0.437278</td>\n",
       "      <td>0.437278</td>\n",
       "      <td>0.437278</td>\n",
       "    </tr>\n",
       "    <tr>\n",
       "      <th>111</th>\n",
       "      <td>222000</td>\n",
       "      <td>111</td>\n",
       "      <td>111</td>\n",
       "      <td>111</td>\n",
       "      <td>0.350281</td>\n",
       "      <td>0.350281</td>\n",
       "      <td>0.350281</td>\n",
       "      <td>0.438408</td>\n",
       "      <td>0.438408</td>\n",
       "      <td>0.438408</td>\n",
       "    </tr>\n",
       "    <tr>\n",
       "      <th>112</th>\n",
       "      <td>224000</td>\n",
       "      <td>112</td>\n",
       "      <td>112</td>\n",
       "      <td>112</td>\n",
       "      <td>0.350078</td>\n",
       "      <td>0.350078</td>\n",
       "      <td>0.350078</td>\n",
       "      <td>0.436815</td>\n",
       "      <td>0.436815</td>\n",
       "      <td>0.436815</td>\n",
       "    </tr>\n",
       "    <tr>\n",
       "      <th>113</th>\n",
       "      <td>226000</td>\n",
       "      <td>113</td>\n",
       "      <td>113</td>\n",
       "      <td>113</td>\n",
       "      <td>0.350841</td>\n",
       "      <td>0.350841</td>\n",
       "      <td>0.350841</td>\n",
       "      <td>0.437889</td>\n",
       "      <td>0.437889</td>\n",
       "      <td>0.437889</td>\n",
       "    </tr>\n",
       "    <tr>\n",
       "      <th>114</th>\n",
       "      <td>228000</td>\n",
       "      <td>114</td>\n",
       "      <td>114</td>\n",
       "      <td>114</td>\n",
       "      <td>0.350672</td>\n",
       "      <td>0.350672</td>\n",
       "      <td>0.350672</td>\n",
       "      <td>0.438852</td>\n",
       "      <td>0.438852</td>\n",
       "      <td>0.438852</td>\n",
       "    </tr>\n",
       "  </tbody>\n",
       "</table>\n",
       "<p>115 rows × 10 columns</p>\n",
       "</div>"
      ]
     },
     "execution_count": 8,
     "metadata": {},
     "output_type": "execute_result"
    }
   ],
   "execution_count": 8
  },
  {
   "metadata": {
    "ExecuteTime": {
     "end_time": "2025-06-14T16:54:01.065059Z",
     "start_time": "2025-06-14T16:54:00.941987Z"
    }
   },
   "cell_type": "code",
   "source": [
    "fig, ax = plt.subplots(figsize=(10, 5))\n",
    "\n",
    "ax.plot(data['iter'], data['gentle-snowball-198 - train_bleu_score'], label='train')\n",
    "ax.plot(data['iter'], data['gentle-snowball-198 - val_bleu_score'], label='val')\n",
    "ax.legend()\n",
    "ax.grid()\n",
    "ax.set_xlabel('iter')\n",
    "ax.set_ylabel('BLEU score')\n",
    "plt.savefig('/Users/adam.amster/aamster.github.io/assets/img/2025-04-13-sequence_to_sequence_translation/encoder_decoder_perf.png')\n",
    "plt.show()"
   ],
   "id": "6e0c7a7057ef7a83",
   "outputs": [
    {
     "data": {
      "text/plain": [
       "<Figure size 1000x500 with 1 Axes>"
      ],
      "image/png": "[encoded data removed]"
     },
     "metadata": {},
     "output_type": "display_data"
    }
   ],
   "execution_count": 11
  },
  {
   "metadata": {
    "ExecuteTime": {
     "end_time": "2025-06-12T13:38:22.565982Z",
     "start_time": "2025-06-12T13:38:22.545405Z"
    }
   },
   "cell_type": "code",
   "source": [
    "test_perf = pd.read_csv('~/Downloads/eval_main.csv')\n",
    "test_perf['bleu'].mean()"
   ],
   "id": "e6688d262d4f6bb6",
   "outputs": [
    {
     "data": {
      "text/plain": [
       "0.3862500656953809"
      ]
     },
     "execution_count": 9,
     "metadata": {},
     "output_type": "execute_result"
    }
   ],
   "execution_count": 9
  },
  {
   "metadata": {
    "ExecuteTime": {
     "end_time": "2025-06-14T15:17:10.376118Z",
     "start_time": "2025-06-14T15:15:29.345068Z"
    }
   },
   "cell_type": "code",
   "source": [
    "from concurrent.futures import as_completed\n",
    "from tqdm import tqdm\n",
    "from seq2seq_translation.tokenization.sentencepiece_tokenizer import SentencePieceTokenizer\n",
    "from seq2seq_translation.datasets.wmt14 import WMT14\n",
    "from concurrent.futures import ThreadPoolExecutor\n",
    "import numpy as np\n",
    "import os\n",
    "\n",
    "wmt14 = WMT14(data_path='/Users/adam.amster/seq2seq_translation/datasets/wmt14_train/fr-en', source_lang='en', target_lang='fr', split='train')\n",
    "source_tokenizer = SentencePieceTokenizer(model_prefix='/Users/adam.amster/seq2seq_translation/tokenizer/30000/en')\n",
    "target_tokenizer = SentencePieceTokenizer(model_prefix='/Users/adam.amster/seq2seq_translation/tokenizer/30000/fr')\n",
    "\n",
    "def token_count(idx, max_len=128):\n",
    "    target, source = wmt14[idx][:-1]\n",
    "    return (len(source_tokenizer.processor.encode(source)[:max_len]),\n",
    "                    len(target_tokenizer.processor.encode(target)[:max_len]))\n",
    "\n",
    "futures = []\n",
    "idxs = np.arange(len(wmt14))\n",
    "np.random.shuffle(idxs)\n",
    "idxs = idxs[:int(len(idxs) * .01)]\n",
    "with ThreadPoolExecutor(max_workers=os.cpu_count()) as ex:\n",
    "    for idx in idxs:\n",
    "        futures.append(ex.submit(token_count, idx))\n",
    "\n",
    "    lengths = []\n",
    "    for fut in tqdm(as_completed(futures), total=len(futures),\n",
    "                    desc=\"Counting tokens\"):\n",
    "        lengths.append(fut.result())\n"
   ],
   "id": "cd2396487b8240b2",
   "outputs": [
    {
     "data": {
      "text/plain": [
       "Resolving data files:   0%|          | 0/30 [00:00<?, ?it/s]"
      ],
      "application/vnd.jupyter.widget-view+json": {
       "version_major": 2,
       "version_minor": 0,
       "model_id": "f82bad18343b437586599b4535a1c0bf"
      }
     },
     "metadata": {},
     "output_type": "display_data"
    },
    {
     "name": "stderr",
     "output_type": "stream",
     "text": [
      "Counting tokens: 100%|██████████| 408367/408367 [01:21<00:00, 5024.02it/s]\n"
     ]
    }
   ],
   "execution_count": 5
  },
  {
   "metadata": {
    "ExecuteTime": {
     "end_time": "2025-06-14T15:17:22.608667Z",
     "start_time": "2025-06-14T15:17:22.476398Z"
    }
   },
   "cell_type": "code",
   "source": [
    "lengths = np.array(lengths)\n",
    "print(lengths.mean(), lengths.std(), np.quantile(lengths, 0.5))"
   ],
   "id": "30065233b1b36fad",
   "outputs": [
    {
     "name": "stdout",
     "output_type": "stream",
     "text": [
      "49.59853758996197 30.25773669114214 43.0\n"
     ]
    }
   ],
   "execution_count": 6
  },
  {
   "metadata": {
    "ExecuteTime": {
     "end_time": "2025-06-22T19:06:16.836763Z",
     "start_time": "2025-06-22T19:06:16.527576Z"
    }
   },
   "cell_type": "code",
   "source": [
    "import pandas as pd\n",
    "import matplotlib.pyplot as plt\n",
    "import seaborn as sns\n",
    "\n",
    "transformer_gpu_util = pd.read_csv('~/Downloads/wandb_export_2025-06-22T13_16_25.728-04_00.csv')\n",
    "rnn_gpu_util = pd.read_csv('~/Downloads/wandb_export_2025-06-22T13_17_12.253-04_00.csv')\n",
    "\n",
    "transformer_gpu_util['gpu_util'] = (transformer_gpu_util['gentle-snowball-198 - system/gpu.0.gpu'] + transformer_gpu_util['gentle-snowball-198 - system/gpu.1.gpu'] + transformer_gpu_util['gentle-snowball-198 - system/gpu.2.gpu']) / 3\n",
    "\n",
    "rnn_gpu_util['gpu_util'] = (rnn_gpu_util['pleasant-shadow-169 - system/gpu.0.gpu'] + rnn_gpu_util['pleasant-shadow-169 - system/gpu.1.gpu'] + rnn_gpu_util['pleasant-shadow-169 - system/gpu.2.gpu']) / 3\n",
    "\n",
    "\n",
    "sns.histplot(transformer_gpu_util['gpu_util'], label='transformer', stat='percent')\n",
    "sns.histplot(rnn_gpu_util['gpu_util'], label='RNN', stat='percent')\n",
    "plt.legend()\n",
    "plt.show()"
   ],
   "id": "a261dfefe508c466",
   "outputs": [
    {
     "data": {
      "text/plain": [
       "<Figure size 640x480 with 1 Axes>"
      ],
      "image/png": "[encoded data removed]"
     },
     "metadata": {},
     "output_type": "display_data"
    }
   ],
   "execution_count": 22
  }
 ],
 "metadata": {
  "kernelspec": {
   "display_name": "Python 3",
   "language": "python",
   "name": "python3"
  },
  "language_info": {
   "codemirror_mode": {
    "name": "ipython",
    "version": 2
   },
   "file_extension": ".py",
   "mimetype": "text/x-python",
   "name": "python",
   "nbconvert_exporter": "python",
   "pygments_lexer": "ipython2",
   "version": "2.7.6"
  }
 },
 "nbformat": 4,
 "nbformat_minor": 5
}
