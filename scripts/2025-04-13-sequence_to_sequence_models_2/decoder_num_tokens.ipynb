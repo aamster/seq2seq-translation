{
 "cells": [
  {
   "cell_type": "code",
   "id": "initial_id",
   "metadata": {
    "collapsed": true,
    "ExecuteTime": {
     "end_time": "2025-07-08T13:27:25.814760Z",
     "start_time": "2025-07-08T13:27:13.752522Z"
    }
   },
   "source": [
    "from pathlib import Path\n",
    "from seq2seq_translation.sentence_pairs_dataset import SentencePairsDatasetFromPreprocessedTokens\n",
    "import numpy as np\n",
    "import torch\n",
    "\n",
    "rng = np.random.default_rng(seed=1234)\n",
    "\n",
    "\n",
    "tokenized_dir = Path('/Users/adam.amster/seq2seq_translation/datasets/preprocessed')\n",
    "\n",
    "train_offsets = np.memmap(\n",
    "    tokenized_dir / \"train_offsets.bin\", dtype=np.uint64\n",
    ")\n",
    "train_tokenized = np.memmap(\n",
    "    tokenized_dir / \"train.bin\", dtype=np.uint16\n",
    ")\n",
    "\n",
    "val_offsets = np.memmap(\n",
    "    tokenized_dir / \"val_offsets.bin\", dtype=np.uint64\n",
    ")\n",
    "val_tokenized = np.memmap(tokenized_dir / \"val.bin\", dtype=np.uint16)\n",
    "\n",
    "# -1 because it goes until 1 past the last sequence\n",
    "train_idxs = np.arange(len(train_offsets) - 1)\n",
    "rng.shuffle(train_idxs)\n",
    "\n",
    "# -1 because it goes until 1 past the last sequence\n",
    "test_idxs = np.arange(len(val_offsets) - 1)\n",
    "rng.shuffle(test_idxs)\n",
    "\n",
    "train_dset = SentencePairsDatasetFromPreprocessedTokens(\n",
    "    idxs=train_idxs,\n",
    "    combine_source_and_target=True,\n",
    "    tokenized_offsets=train_offsets,\n",
    "    tokenized=train_tokenized,\n",
    "    eot_token_id=2,\n",
    "    pad_token_id=3,\n",
    "    source_language_tag_token_id=32000,\n",
    "    target_language_tag_token_id=32001,\n",
    ")"
   ],
   "outputs": [],
   "execution_count": 1
  },
  {
   "metadata": {
    "ExecuteTime": {
     "end_time": "2025-07-08T13:35:54.648890Z",
     "start_time": "2025-07-08T13:35:54.644168Z"
    }
   },
   "cell_type": "code",
   "source": "train_tokenized.shape[0]",
   "id": "1eb990aed071948d",
   "outputs": [
    {
     "data": {
      "text/plain": [
       "3092033260"
      ]
     },
     "execution_count": 13,
     "metadata": {},
     "output_type": "execute_result"
    }
   ],
   "execution_count": 13
  },
  {
   "metadata": {
    "ExecuteTime": {
     "end_time": "2025-07-08T13:33:45.332423Z",
     "start_time": "2025-07-08T13:33:45.326684Z"
    }
   },
   "cell_type": "code",
   "source": "6 * 76.28*10**6*train_tokenized.shape[0] * 1.41/1e18",
   "id": "afb80afaa2e7f162",
   "outputs": [
    {
     "data": {
      "text/plain": [
       "1.9953781132358879"
      ]
     },
     "execution_count": 11,
     "metadata": {},
     "output_type": "execute_result"
    }
   ],
   "execution_count": 11
  }
 ],
 "metadata": {
  "kernelspec": {
   "display_name": "Python 3",
   "language": "python",
   "name": "python3"
  },
  "language_info": {
   "codemirror_mode": {
    "name": "ipython",
    "version": 2
   },
   "file_extension": ".py",
   "mimetype": "text/x-python",
   "name": "python",
   "nbconvert_exporter": "python",
   "pygments_lexer": "ipython2",
   "version": "2.7.6"
  }
 },
 "nbformat": 4,
 "nbformat_minor": 5
}
